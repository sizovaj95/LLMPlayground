{
 "cells": [
  {
   "cell_type": "code",
   "execution_count": 49,
   "id": "b6827601-b0ae-424c-b7c7-b3fcc76ac5e0",
   "metadata": {},
   "outputs": [],
   "source": [
    "from transformers import GPT2Tokenizer, GPT2Model, GPT2LMHeadModel, GPT2Config\n",
    "from transformers import AutoModelForCausalLM, AutoTokenizer\n",
    "import tqdm\n",
    "from sklearn.model_selection import train_test_split\n",
    "import torch.nn as nn\n",
    "import torch.nn.functional as F\n",
    "import torch.utils.data as tutils\n",
    "import pandas as pd\n",
    "import torch"
   ]
  },
  {
   "cell_type": "code",
   "execution_count": 59,
   "id": "ca5db22e-ea39-49d2-aca4-9865c4aea269",
   "metadata": {},
   "outputs": [
    {
     "name": "stdout",
     "output_type": "stream",
     "text": [
      "USING cuda\n"
     ]
    }
   ],
   "source": [
    "device = 'cuda' if torch.cuda.is_available() else 'cpu'\n",
    "print(f\"USING {device}\")"
   ]
  },
  {
   "cell_type": "code",
   "execution_count": 60,
   "id": "9dfb8823-ed32-4429-b3f3-b95ff4389e25",
   "metadata": {},
   "outputs": [
    {
     "name": "stderr",
     "output_type": "stream",
     "text": [
      "C:\\Users\\Julia\\Documents\\LearningC\\ChatBot\\venv\\Lib\\site-packages\\transformers\\tokenization_utils_base.py:1601: FutureWarning: `clean_up_tokenization_spaces` was not set. It will be set to `True` by default. This behavior will be depracted in transformers v4.45, and will be then set to `False` by default. For more details check this issue: https://github.com/huggingface/transformers/issues/31884\n",
      "  warnings.warn(\n"
     ]
    }
   ],
   "source": [
    "model = GPT2LMHeadModel.from_pretrained(\"gpt2\")#, output_hidden_states=True)\n",
    "model.config.pad_token_id = model.config.eos_token_id\n",
    "model.to(device)\n",
    "tokenizer = GPT2Tokenizer.from_pretrained(\"gpt2\")\n",
    "tokenizer.pad_token = tokenizer.eos_token\n",
    "tokenizer.padding_side = \"left\"\n"
   ]
  },
  {
   "cell_type": "code",
   "execution_count": 61,
   "id": "db0e7539-75c8-4ecb-9ba9-556753b682c4",
   "metadata": {},
   "outputs": [],
   "source": [
    "data = pd.read_csv(\"data/movie_conversations_data_filtered.csv\")\n",
    "data.dropna(inplace=True)"
   ]
  },
  {
   "cell_type": "code",
   "execution_count": 62,
   "id": "612faa2a-71f1-4950-86fd-a2699e88cd2d",
   "metadata": {},
   "outputs": [],
   "source": [
    "train_df, test_df = train_test_split(data, test_size=0.5, random_state=42)\n",
    "train_df, val_df = train_test_split(train_df, test_size=0.1, random_state=42) "
   ]
  },
  {
   "cell_type": "code",
   "execution_count": 63,
   "id": "d3919a3e-150e-4537-bc6d-9e3b217b806a",
   "metadata": {},
   "outputs": [
    {
     "name": "stdout",
     "output_type": "stream",
     "text": [
      "81811\n",
      "9091\n"
     ]
    }
   ],
   "source": [
    "print(len(train_df))\n",
    "print(len(val_df))"
   ]
  },
  {
   "cell_type": "code",
   "execution_count": 64,
   "id": "8c57eb7a-15a0-463c-b5c9-43eaccd259ee",
   "metadata": {},
   "outputs": [],
   "source": [
    "class PTDataset(tutils.Dataset):\n",
    "  def __init__(self, data: pd.DataFrame):\n",
    "    self.data = data\n",
    "    self.max_len = self.logest_seq_len()\n",
    "\n",
    "  def __len__(self):\n",
    "    return len(self.data)\n",
    "\n",
    "  def logest_seq_len(self):\n",
    "    lens = self.data['Statement'].str.len() + self.data['Reply'].str.len()\n",
    "    index = lens.idxmax()\n",
    "    max_len = self.data.loc[index].apply(len).max()\n",
    "    return max_len\n",
    "\n",
    "\n",
    "  def __getitem__(self, idx: int):\n",
    "    row = self.data.iloc[idx]\n",
    "    statement = row['Statement']\n",
    "    reply = row['Reply']\n",
    "    tokenized_statement = tokenizer(statement, padding=\"max_length\", max_length=48, truncation=True, return_tensors=\"pt\")\n",
    "    tokenized_reply = tokenizer(reply, padding=\"max_length\", max_length=48, truncation=True, return_tensors=\"pt\")\n",
    "    output_ids = tokenized_reply['input_ids'][tokenized_reply['attention_mask'] == 0] = -100\n",
    "    return {'input_ids': tokenized_statement['input_ids'][0],\n",
    "            'attention_mask': tokenized_statement['attention_mask'][0],\n",
    "            'output_ids': tokenized_reply['input_ids'][0]}"
   ]
  },
  {
   "cell_type": "code",
   "execution_count": 65,
   "id": "d2323dc8-2fc9-4c9b-8126-24b1e00d8fc7",
   "metadata": {},
   "outputs": [],
   "source": [
    "train_data_pt = PTDataset(train_df)\n",
    "test_data_pt = PTDataset(test_df)\n",
    "val_data_pt = PTDataset(val_df)\n",
    "\n",
    "train_loader = tutils.DataLoader(train_data_pt, batch_size=8, shuffle=True)\n",
    "test_loader = tutils.DataLoader(test_data_pt, batch_size=8)\n",
    "val_loader = tutils.DataLoader(val_data_pt, batch_size=8, shuffle=False)"
   ]
  },
  {
   "cell_type": "code",
   "execution_count": 66,
   "id": "2462b312-4798-43e1-94cf-ca07bd497250",
   "metadata": {},
   "outputs": [],
   "source": [
    "UNFREEZE_LAST_N = 3\n",
    "\n",
    "for parameter in model.parameters():\n",
    "    parameter.requires_grad = False\n",
    "\n",
    "for i, m in enumerate(model.transformer.h):\n",
    "    #Only un-freeze the last n transformer blocks\n",
    "    if i+1 > 12 - UNFREEZE_LAST_N:\n",
    "        for parameter in m.parameters():\n",
    "            parameter.requires_grad = True\n",
    "\n",
    "for parameter in model.transformer.ln_f.parameters():\n",
    "    parameter.requires_grad = True\n",
    "\n",
    "for parameter in model.lm_head.parameters():\n",
    "    parameter.requires_grad = True"
   ]
  },
  {
   "cell_type": "code",
   "execution_count": 67,
   "id": "dc267859-1568-46ad-a61c-91f06d1b1cae",
   "metadata": {},
   "outputs": [
    {
     "name": "stdout",
     "output_type": "stream",
     "text": [
      "EPOCH 1\n"
     ]
    },
    {
     "name": "stderr",
     "output_type": "stream",
     "text": [
      "100%|█████████████████████████████████████████████████████████████████████████████████████████████████████████████████████████████████████████████████████████████████████████████████████████████████████████████████████████████████| 10227/10227 [56:37<00:00,  3.01it/s]\n"
     ]
    },
    {
     "name": "stdout",
     "output_type": "stream",
     "text": [
      "Training loss: 6.52\n"
     ]
    },
    {
     "name": "stderr",
     "output_type": "stream",
     "text": [
      "100%|███████████████████████████████████████████████████████████████████████████████████████████████████████████████████████████████████████████████████████████████████████████████████████████████████████████████████████████████████| 1137/1137 [00:56<00:00, 20.12it/s]\n"
     ]
    },
    {
     "name": "stdout",
     "output_type": "stream",
     "text": [
      "Average validation loss: 6.42\n",
      "\n",
      "\n",
      "EPOCH 2\n"
     ]
    },
    {
     "name": "stderr",
     "output_type": "stream",
     "text": [
      "100%|█████████████████████████████████████████████████████████████████████████████████████████████████████████████████████████████████████████████████████████████████████████████████████████████████████████████████████████████████| 10227/10227 [56:17<00:00,  3.03it/s]\n"
     ]
    },
    {
     "name": "stdout",
     "output_type": "stream",
     "text": [
      "Training loss: 6.38\n"
     ]
    },
    {
     "name": "stderr",
     "output_type": "stream",
     "text": [
      "100%|███████████████████████████████████████████████████████████████████████████████████████████████████████████████████████████████████████████████████████████████████████████████████████████████████████████████████████████████████| 1137/1137 [00:57<00:00, 19.82it/s]\n"
     ]
    },
    {
     "name": "stdout",
     "output_type": "stream",
     "text": [
      "Average validation loss: 6.37\n",
      "\n",
      "\n",
      "EPOCH 3\n"
     ]
    },
    {
     "name": "stderr",
     "output_type": "stream",
     "text": [
      "100%|███████████████████████████████████████████████████████████████████████████████████████████████████████████████████████████████████████████████████████████████████████████████████████████████████████████████████████████████| 10227/10227 [1:02:32<00:00,  2.73it/s]\n"
     ]
    },
    {
     "name": "stdout",
     "output_type": "stream",
     "text": [
      "Training loss: 6.33\n"
     ]
    },
    {
     "name": "stderr",
     "output_type": "stream",
     "text": [
      "100%|███████████████████████████████████████████████████████████████████████████████████████████████████████████████████████████████████████████████████████████████████████████████████████████████████████████████████████████████████| 1137/1137 [00:58<00:00, 19.51it/s]\n"
     ]
    },
    {
     "name": "stdout",
     "output_type": "stream",
     "text": [
      "Average validation loss: 6.36\n",
      "\n",
      "\n",
      "EPOCH 4\n"
     ]
    },
    {
     "name": "stderr",
     "output_type": "stream",
     "text": [
      "100%|█████████████████████████████████████████████████████████████████████████████████████████████████████████████████████████████████████████████████████████████████████████████████████████████████████████████████████████████████| 10227/10227 [56:11<00:00,  3.03it/s]\n"
     ]
    },
    {
     "name": "stdout",
     "output_type": "stream",
     "text": [
      "Training loss: 6.29\n"
     ]
    },
    {
     "name": "stderr",
     "output_type": "stream",
     "text": [
      "100%|███████████████████████████████████████████████████████████████████████████████████████████████████████████████████████████████████████████████████████████████████████████████████████████████████████████████████████████████████| 1137/1137 [00:57<00:00, 19.77it/s]\n"
     ]
    },
    {
     "name": "stdout",
     "output_type": "stream",
     "text": [
      "Average validation loss: 6.38\n",
      "\n",
      "\n",
      "EPOCH 5\n"
     ]
    },
    {
     "name": "stderr",
     "output_type": "stream",
     "text": [
      "100%|█████████████████████████████████████████████████████████████████████████████████████████████████████████████████████████████████████████████████████████████████████████████████████████████████████████████████████████████████| 10227/10227 [55:32<00:00,  3.07it/s]\n"
     ]
    },
    {
     "name": "stdout",
     "output_type": "stream",
     "text": [
      "Training loss: 6.24\n"
     ]
    },
    {
     "name": "stderr",
     "output_type": "stream",
     "text": [
      "100%|███████████████████████████████████████████████████████████████████████████████████████████████████████████████████████████████████████████████████████████████████████████████████████████████████████████████████████████████████| 1137/1137 [00:57<00:00, 19.65it/s]"
     ]
    },
    {
     "name": "stdout",
     "output_type": "stream",
     "text": [
      "Average validation loss: 6.37\n",
      "\n",
      "\n"
     ]
    },
    {
     "name": "stderr",
     "output_type": "stream",
     "text": [
      "\n"
     ]
    }
   ],
   "source": [
    "optimizer = torch.optim.Adam(model.parameters(), lr=1e-4)\n",
    "\n",
    "train_losses = []\n",
    "val_looses = []\n",
    "scaler = torch.amp.GradScaler('cuda')\n",
    "for i in range(5):\n",
    "  running_t_loss = 0\n",
    "  print(f\"EPOCH {i+1}\")\n",
    "  model.train()\n",
    "  running_loss = 0\n",
    "  predictions = []\n",
    "  actual = []\n",
    "  last_loss = 0\n",
    "  \n",
    "  for batch in tqdm.tqdm(train_loader):\n",
    "    for k, v in batch.items():\n",
    "      batch[k] = v.to(device)\n",
    "    input_ids = batch['input_ids']\n",
    "    output_ids = batch['output_ids']\n",
    "    mask = batch['attention_mask']\n",
    "    \n",
    "\n",
    "    with torch.autocast(device_type=device, dtype=torch.float16):\n",
    "      output = model(input_ids=input_ids, attention_mask=mask, labels=output_ids)\n",
    "      loss = output.loss\n",
    "      logits = output.logits\n",
    "\n",
    "    scaler.scale(loss).backward()\n",
    "    scaler.step(optimizer)\n",
    "    scaler.update()\n",
    "    optimizer.zero_grad()\n",
    "    # loss.backward()\n",
    "    # optimizer.step()\n",
    "\n",
    "    running_t_loss += loss.item()\n",
    "\n",
    "  av_epoch_loss = running_t_loss / len(train_loader)\n",
    "  print(\"Training loss: {:.2f}\".format(av_epoch_loss))\n",
    "  train_losses.append(av_epoch_loss)\n",
    "\n",
    "  model.eval()\n",
    "  running_v_loss = 0\n",
    "  with torch.no_grad():\n",
    "    for batch in tqdm.tqdm(val_loader):\n",
    "      for k, v in batch.items():\n",
    "        batch[k] = v.to(device)\n",
    "      input_ids = batch['input_ids']\n",
    "      output_ids = batch['output_ids']\n",
    "      mask = batch['attention_mask']\n",
    "\n",
    "      with torch.autocast(device_type=device, dtype=torch.float16):  \n",
    "        output = model(input_ids=input_ids, attention_mask=mask, labels=output_ids)\n",
    "        loss = output.loss\n",
    "        running_v_loss += loss.item()\n",
    "\n",
    "    av_epoch_loss = running_v_loss / len(val_loader)\n",
    "    print(\"Average validation loss: {:.2f}\".format(av_epoch_loss))\n",
    "    val_looses.append(av_epoch_loss)\n",
    "\n",
    "    print(\"\\n\")\n",
    "\n",
    "\n",
    "\n"
   ]
  },
  {
   "cell_type": "code",
   "execution_count": 68,
   "id": "feb82015-80ad-4287-bc43-09bd4f769d07",
   "metadata": {},
   "outputs": [
    {
     "data": {
      "text/plain": [
       "True"
      ]
     },
     "execution_count": 68,
     "metadata": {},
     "output_type": "execute_result"
    }
   ],
   "source": [
    "torch.backends.cuda.flash_sdp_enabled()"
   ]
  },
  {
   "cell_type": "code",
   "execution_count": 69,
   "id": "68372d42-aab6-473f-affa-80c1fcda2b8b",
   "metadata": {},
   "outputs": [
    {
     "data": {
      "text/plain": [
       "GPT2LMHeadModel(\n",
       "  (transformer): GPT2Model(\n",
       "    (wte): Embedding(50257, 768)\n",
       "    (wpe): Embedding(1024, 768)\n",
       "    (drop): Dropout(p=0.1, inplace=False)\n",
       "    (h): ModuleList(\n",
       "      (0-11): 12 x GPT2Block(\n",
       "        (ln_1): LayerNorm((768,), eps=1e-05, elementwise_affine=True)\n",
       "        (attn): GPT2SdpaAttention(\n",
       "          (c_attn): Conv1D()\n",
       "          (c_proj): Conv1D()\n",
       "          (attn_dropout): Dropout(p=0.1, inplace=False)\n",
       "          (resid_dropout): Dropout(p=0.1, inplace=False)\n",
       "        )\n",
       "        (ln_2): LayerNorm((768,), eps=1e-05, elementwise_affine=True)\n",
       "        (mlp): GPT2MLP(\n",
       "          (c_fc): Conv1D()\n",
       "          (c_proj): Conv1D()\n",
       "          (act): NewGELUActivation()\n",
       "          (dropout): Dropout(p=0.1, inplace=False)\n",
       "        )\n",
       "      )\n",
       "    )\n",
       "    (ln_f): LayerNorm((768,), eps=1e-05, elementwise_affine=True)\n",
       "  )\n",
       "  (lm_head): Linear(in_features=768, out_features=50257, bias=False)\n",
       ")"
      ]
     },
     "execution_count": 69,
     "metadata": {},
     "output_type": "execute_result"
    }
   ],
   "source": [
    "model_bare = GPT2LMHeadModel.from_pretrained(\"gpt2\")#, output_hidden_states=True)\n",
    "model_bare.config.pad_token_id = model_bare.config.eos_token_id\n",
    "model_bare.to(device)"
   ]
  },
  {
   "cell_type": "code",
   "execution_count": 70,
   "id": "3d4d123e-c196-47b9-b75c-0062fc48d3ac",
   "metadata": {},
   "outputs": [
    {
     "name": "stderr",
     "output_type": "stream",
     "text": [
      "The attention mask and the pad token id were not set. As a consequence, you may observe unexpected behavior. Please pass your input's `attention_mask` to obtain reliable results.\n",
      "Setting `pad_token_id` to `eos_token_id`:50256 for open-end generation.\n",
      "The attention mask is not set and cannot be inferred from input because pad token is same as eos token. As a consequence, you may observe unexpected behavior. Please pass your input's `attention_mask` to obtain reliable results.\n"
     ]
    }
   ],
   "source": [
    "model.eval()\n",
    "text = \"No I guess it's okay.\"\n",
    "tokenized = tokenizer(text, return_tensors=\"pt\").input_ids.to(device)\n",
    "#tokenizer(text, padding='max_length', max_length=256, truncation=True, return_tensors=\"pt\")\n",
    "output = model.generate(tokenized, max_length=50)"
   ]
  },
  {
   "cell_type": "code",
   "execution_count": 71,
   "id": "2b6c78b5-fa9c-4752-9f21-c82146e4073b",
   "metadata": {},
   "outputs": [
    {
     "data": {
      "text/plain": [
       "\"No I guess it's okay............................................\""
      ]
     },
     "execution_count": 71,
     "metadata": {},
     "output_type": "execute_result"
    }
   ],
   "source": [
    "tokenizer.batch_decode(output)[0]\n"
   ]
  },
  {
   "cell_type": "code",
   "execution_count": 67,
   "id": "97eedc16-f954-4d28-a796-e52ba57260b2",
   "metadata": {},
   "outputs": [],
   "source": [
    "reply_input[reply_mask == 0] = -100\n",
    "        "
   ]
  },
  {
   "cell_type": "code",
   "execution_count": 55,
   "id": "8c64112e-c05b-40a8-a90f-08d2d6939ad3",
   "metadata": {},
   "outputs": [
    {
     "data": {
      "text/plain": [
       "\"No I guess it's okay.\""
      ]
     },
     "execution_count": 55,
     "metadata": {},
     "output_type": "execute_result"
    }
   ],
   "source": [
    "train_df.iloc[3]['Statement']\n",
    "train_df.iloc[3]['Reply']"
   ]
  },
  {
   "cell_type": "code",
   "execution_count": 102,
   "id": "6d965e08-4ad0-46ee-8e69-c640c788c12a",
   "metadata": {},
   "outputs": [
    {
     "name": "stdout",
     "output_type": "stream",
     "text": [
      "Hello, my dog is cute. I love her. I love\n"
     ]
    }
   ],
   "source": [
    "new_id = logits[:, -1, :].argmax(dim=1)  # Generate new ID\n",
    "input_ids = torch.cat([inputs['input_ids'], new_id.unsqueeze(0)], dim=1)\n",
    "print(tokenizer.batch_decode(input_ids)[0])"
   ]
  },
  {
   "cell_type": "code",
   "execution_count": 100,
   "id": "3f0260cf-333c-4878-b322-84d142c89343",
   "metadata": {},
   "outputs": [
    {
     "data": {
      "text/plain": [
       "torch.Size([1, 12])"
      ]
     },
     "execution_count": 100,
     "metadata": {},
     "output_type": "execute_result"
    }
   ],
   "source": [
    "inputs['input_ids'].shape"
   ]
  },
  {
   "cell_type": "code",
   "execution_count": 33,
   "id": "db07a3c0-1b90-4fa7-a9f9-857e014d0c2a",
   "metadata": {},
   "outputs": [
    {
     "data": {
      "text/plain": [
       "tensor([[0, 0, 0,  ..., 1, 1, 1],\n",
       "        [0, 0, 0,  ..., 1, 1, 1],\n",
       "        [0, 0, 0,  ..., 1, 1, 1],\n",
       "        ...,\n",
       "        [0, 0, 0,  ..., 1, 1, 1],\n",
       "        [0, 0, 0,  ..., 1, 1, 1],\n",
       "        [0, 0, 0,  ..., 1, 1, 1]])"
      ]
     },
     "execution_count": 33,
     "metadata": {},
     "output_type": "execute_result"
    }
   ],
   "source": [
    "mask"
   ]
  },
  {
   "cell_type": "code",
   "execution_count": 37,
   "id": "e257f904-7818-4c35-bd05-563b09ab7120",
   "metadata": {},
   "outputs": [
    {
     "data": {
      "text/plain": [
       "Statement                                Is that all?\n",
       "Reply        I've got enough on my mind without that.\n",
       "Name: 136621, dtype: object"
      ]
     },
     "execution_count": 37,
     "metadata": {},
     "output_type": "execute_result"
    }
   ],
   "source": [
    "train_df.iloc[0]"
   ]
  },
  {
   "cell_type": "code",
   "execution_count": 128,
   "id": "72a9817d-708b-4b09-be46-e3077a3094dc",
   "metadata": {},
   "outputs": [],
   "source": [
    "tokenized_statement = tokenizer(\"Is that all?\", padding='max_length', max_length=1025, return_tensors=\"pt\")"
   ]
  },
  {
   "cell_type": "code",
   "execution_count": 61,
   "id": "77a0e42a-c0b6-42bc-91a7-4f0936c36fa1",
   "metadata": {},
   "outputs": [
    {
     "data": {
      "text/plain": [
       "Statement                               And a snake-eye glare.\n",
       "Reply        ---and a snake-eye glare Arnold was able to to...\n",
       "Name: 167275, dtype: object"
      ]
     },
     "execution_count": 61,
     "metadata": {},
     "output_type": "execute_result"
    }
   ],
   "source": [
    "train_df.iloc[1]"
   ]
  },
  {
   "cell_type": "code",
   "execution_count": 123,
   "id": "d33abd56-9e0b-4f90-a368-a323ef8b5f90",
   "metadata": {},
   "outputs": [
    {
     "data": {
      "text/plain": [
       "torch.Size([1, 256])"
      ]
     },
     "execution_count": 123,
     "metadata": {},
     "output_type": "execute_result"
    }
   ],
   "source": [
    "tokenized_statement['input_ids'].shape"
   ]
  },
  {
   "cell_type": "code",
   "execution_count": null,
   "id": "3dcfc04f-8210-4f1d-9fc5-5bc8d665f4c9",
   "metadata": {},
   "outputs": [],
   "source": []
  }
 ],
 "metadata": {
  "kernelspec": {
   "display_name": "ChatBot",
   "language": "python",
   "name": "chatbot"
  },
  "language_info": {
   "codemirror_mode": {
    "name": "ipython",
    "version": 3
   },
   "file_extension": ".py",
   "mimetype": "text/x-python",
   "name": "python",
   "nbconvert_exporter": "python",
   "pygments_lexer": "ipython3",
   "version": "3.11.0"
  }
 },
 "nbformat": 4,
 "nbformat_minor": 5
}
